{
  "nbformat": 4,
  "nbformat_minor": 0,
  "metadata": {
    "colab": {
      "provenance": [],
      "authorship_tag": "ABX9TyMojnSTXD34VltXeMJ2il0u",
      "include_colab_link": true
    },
    "kernelspec": {
      "name": "python3",
      "display_name": "Python 3"
    },
    "language_info": {
      "name": "python"
    }
  },
  "cells": [
    {
      "cell_type": "markdown",
      "metadata": {
        "id": "view-in-github",
        "colab_type": "text"
      },
      "source": [
        "<a href=\"https://colab.research.google.com/github/mobley-trent/kaggle/blob/master/mnist_%2B_keras.ipynb\" target=\"_parent\"><img src=\"https://colab.research.google.com/assets/colab-badge.svg\" alt=\"Open In Colab\"/></a>"
      ]
    },
    {
      "cell_type": "markdown",
      "source": [
        "## BUILDING A HANDWRITTEN DIGIT RECOGNITION MODEL WITH KERAS AND MNIST DATASET"
      ],
      "metadata": {
        "id": "q6KBJNSqoY4-"
      }
    },
    {
      "cell_type": "markdown",
      "source": [
        "![image](https://th.bing.com/th/id/OIP.mrR-53tNXNjlJQ7Aa5xBAQHaEe?w=305&h=184&c=7&r=0&o=5&pid=1.7)"
      ],
      "metadata": {
        "id": "x98hqR88vAMS"
      }
    },
    {
      "cell_type": "markdown",
      "source": [
        "Welcome to this Google Colab notebook where we will build a digit recognition model using the MNIST dataset from Keras. The MNIST dataset is a well-known dataset that contains a large number of 28x28 pixel grayscale images of handwritten digits from 0 to 9. We will be using Keras, a powerful open-source library for building and training deep learning models, to create a convolutional neural network (CNN) that can accurately recognize handwritten digits. We will go through the steps of loading the dataset, preparing the data, building and training our model, and evaluating its performance. By the end of this notebook, you will have a solid understanding of how to build and train a deep learning model for image recognition, which can be applied to a variety of other image recognition tasks. Let's get started!"
      ],
      "metadata": {
        "id": "aHv1lArioOAe"
      }
    },
    {
      "cell_type": "code",
      "execution_count": 1,
      "metadata": {
        "colab": {
          "base_uri": "https://localhost:8080/"
        },
        "id": "pGghImWXRCub",
        "outputId": "f5db2976-dc96-4a7e-9d13-d0f7d17ef581"
      },
      "outputs": [
        {
          "output_type": "stream",
          "name": "stdout",
          "text": [
            "Downloading data from https://storage.googleapis.com/tensorflow/tf-keras-datasets/mnist.npz\n",
            "11490434/11490434 [==============================] - 1s 0us/step\n"
          ]
        }
      ],
      "source": [
        "# LOAD THE MNIST DATASET\n",
        "\n",
        "from keras.datasets import mnist\n",
        "(train_images, train_labels), (test_images, test_labels) = mnist.load_data()"
      ]
    },
    {
      "cell_type": "code",
      "source": [
        "train_images.shape"
      ],
      "metadata": {
        "colab": {
          "base_uri": "https://localhost:8080/"
        },
        "id": "R95mpTZJU2LM",
        "outputId": "e41d82c2-44e4-42d8-99f8-424c35cb1ca3"
      },
      "execution_count": 2,
      "outputs": [
        {
          "output_type": "execute_result",
          "data": {
            "text/plain": [
              "(60000, 28, 28)"
            ]
          },
          "metadata": {},
          "execution_count": 2
        }
      ]
    },
    {
      "cell_type": "code",
      "source": [
        "# PREPROCESSING\n",
        "\n",
        "# Normalizing the pixel values by dividing them by 255.\n",
        "# Scales them to a range of between 0 and 1\n",
        "\n",
        "train_images = train_images / 255.0\n",
        "test_images = test_images / 255.0"
      ],
      "metadata": {
        "id": "C7wr0vgZSgRE"
      },
      "execution_count": 3,
      "outputs": []
    },
    {
      "cell_type": "code",
      "source": [
        "from keras.utils import np_utils\n",
        "\n",
        "train_labels = np_utils.to_categorical(train_labels)\n",
        "test_labels = np_utils.to_categorical(test_labels)\n",
        "\n",
        "# This code is using the to_categorical() function from the Keras utility \n",
        "# module to convert the integer-encoded class labels in the train_labels and \n",
        "# test_labels arrays into one-hot encoded vectors."
      ],
      "metadata": {
        "id": "4yPO8v-EfR1I"
      },
      "execution_count": 4,
      "outputs": []
    },
    {
      "cell_type": "markdown",
      "source": [
        "One-hot encoding is a common technique used to represent categorical variables as binary vectors. In this case, there are 10 possible classes (digits 0-9), so each label is represented as a 10-dimensional vector, with a 1 in the index corresponding to the class and 0s everywhere else. For example, a label of 2 would be represented as `[0, 0, 1, 0, 0, 0, 0, 0, 0, 0]` and a label of 9 would be represented as `[0, 0, 0, 0, 0, 0, 0, 0, 0, 1]`."
      ],
      "metadata": {
        "id": "PwGsgRsgr9Kh"
      }
    },
    {
      "cell_type": "code",
      "source": [
        "# MODELLING\n",
        "\n",
        "from keras import models, layers\n",
        "\n",
        "model = models.Sequential()\n",
        "model.add(layers.Conv2D(32, (3, 3), activation='relu', input_shape=(28, 28, 1)))\n",
        "model.add(layers.MaxPooling2D((2, 2)))\n",
        "model.add(layers.Conv2D(64, (3, 3), activation='relu'))\n",
        "model.add(layers.MaxPooling2D((2, 2)))\n",
        "model.add(layers.Conv2D(64, (3, 3), activation='relu'))\n",
        "model.add(layers.Flatten())\n",
        "model.add(layers.Dense(64, activation='relu'))\n",
        "model.add(layers.Dense(10, activation='softmax'))\n",
        "\n",
        "# COMPILING\n",
        "\n",
        "model.compile(optimizer='rmsprop',\n",
        "              loss='categorical_crossentropy',\n",
        "              metrics=['accuracy'])"
      ],
      "metadata": {
        "id": "SVDLSB7wS8El"
      },
      "execution_count": 5,
      "outputs": []
    },
    {
      "cell_type": "markdown",
      "source": [
        "This is a convolutional neural network (CNN) model, which is commonly used for image classification tasks.\n",
        "\n",
        "The model consists of three convolutional layers with 32, 64, and 64 filters respectively, each followed by a max pooling layer. The convolutional layers use a 3x3 kernel, and the activation function used is ReLU. The max pooling layers use a 2x2 pooling window.\n",
        "\n",
        "The output of the last pooling layer is flattened and fed into two dense layers. The first dense layer consists of 64 units with a ReLU activation function. The final dense layer consists of 10 units with a softmax activation function, which produces a probability distribution over the 10 possible output classes.\n",
        "\n",
        "The model is compiled using the `'rmsprop'` optimizer and `'categorical_crossentropy'` loss function, which is commonly used for multiclass classification problems. The model is also set to evaluate the `'accuracy'` metric during training."
      ],
      "metadata": {
        "id": "KQu72Gcnsyvh"
      }
    },
    {
      "cell_type": "code",
      "source": [
        "# TRAINING\n",
        "\n",
        "history = model.fit(train_images, train_labels, epochs=5, batch_size=64)"
      ],
      "metadata": {
        "colab": {
          "base_uri": "https://localhost:8080/"
        },
        "id": "t35AI9oyTVmC",
        "outputId": "5c6091ae-4c83-4333-ade3-287ec33ebc4e"
      },
      "execution_count": 6,
      "outputs": [
        {
          "output_type": "stream",
          "name": "stdout",
          "text": [
            "Epoch 1/5\n",
            "938/938 [==============================] - 65s 66ms/step - loss: 0.1918 - accuracy: 0.9411\n",
            "Epoch 2/5\n",
            "938/938 [==============================] - 60s 64ms/step - loss: 0.0510 - accuracy: 0.9839\n",
            "Epoch 3/5\n",
            "938/938 [==============================] - 59s 63ms/step - loss: 0.0348 - accuracy: 0.9893\n",
            "Epoch 4/5\n",
            "938/938 [==============================] - 58s 62ms/step - loss: 0.0266 - accuracy: 0.9923\n",
            "Epoch 5/5\n",
            "938/938 [==============================] - 65s 69ms/step - loss: 0.0203 - accuracy: 0.9936\n"
          ]
        }
      ]
    },
    {
      "cell_type": "code",
      "source": [
        "# EVALUATION\n",
        "\n",
        "test_loss, test_acc = model.evaluate(test_images, test_labels)\n",
        "print('Test accuracy:', test_acc)"
      ],
      "metadata": {
        "colab": {
          "base_uri": "https://localhost:8080/"
        },
        "id": "KrDHkxFDTdwe",
        "outputId": "094820b6-e543-4500-d116-18fae10b9fbd"
      },
      "execution_count": 12,
      "outputs": [
        {
          "output_type": "stream",
          "name": "stdout",
          "text": [
            "313/313 [==============================] - 3s 10ms/step - loss: 0.0260 - accuracy: 0.9913\n",
            "Test accuracy: 0.9912999868392944\n"
          ]
        }
      ]
    },
    {
      "cell_type": "code",
      "source": [
        "# PREDICTIONS\n",
        "\n",
        "import numpy as np\n",
        "\n",
        "predictions = model.predict(test_images)\n",
        "print(np.argmax(predictions[:10], axis=1))"
      ],
      "metadata": {
        "colab": {
          "base_uri": "https://localhost:8080/"
        },
        "id": "FAE6v23ygwOv",
        "outputId": "1424074a-e4eb-4837-c7a7-4d4b4635ed55"
      },
      "execution_count": 13,
      "outputs": [
        {
          "output_type": "stream",
          "name": "stdout",
          "text": [
            "313/313 [==============================] - 4s 12ms/step\n",
            "[7 2 1 0 4 1 4 9 5 9]\n"
          ]
        }
      ]
    },
    {
      "cell_type": "code",
      "source": [
        "for i in range(10):\n",
        "    plt.subplot(2, 5, i+1) # create a 2x5 grid of subplots, with index i+1\n",
        "    plt.imshow(test_images[i], cmap='gray') # display the image at index i\n",
        "    plt.xticks([]) # remove the x-axis ticks\n",
        "    plt.yticks([]) # remove the y-axis ticks\n",
        "    plt.title(f\"Image {i+1}\") # add a title to the subplot\n",
        "\n",
        "plt.show() # display the plot"
      ],
      "metadata": {
        "colab": {
          "base_uri": "https://localhost:8080/",
          "height": 227
        },
        "id": "9JwQnTOtV7sl",
        "outputId": "3e4bbaf8-7b53-4eed-cdf8-a7baafc00347"
      },
      "execution_count": 14,
      "outputs": [
        {
          "output_type": "display_data",
          "data": {
            "text/plain": [
              "<Figure size 432x288 with 10 Axes>"
            ],
            "image/png": "[encoded data removed]"
          },
          "metadata": {}
        }
      ]
    },
    {
      "cell_type": "code",
      "source": [
        "import matplotlib.pyplot as plt\n",
        "import itertools\n",
        "from sklearn.metrics import confusion_matrix\n",
        "\n",
        "\n",
        "Y_pred_classes = np.argmax(predictions, axis=1)\n",
        "Y_true = np.argmax(test_labels, axis=1)\n",
        "\n",
        "def plot_confusion_matrix(classes,\n",
        "                          normalize=False,\n",
        "                          title='Confusion matrix',\n",
        "                          cmap=plt.cm.Blues):\n",
        "    \"\"\"\n",
        "    This function prints and plots the confusion matrix.\n",
        "    Normalization can be applied by setting `normalize=True`.\n",
        "    \"\"\"\n",
        "\n",
        "    cm = confusion_matrix(Y_true, Y_pred_classes)\n",
        "    plt.imshow(cm, interpolation='nearest', cmap=cmap)\n",
        "    plt.title(title)\n",
        "    plt.colorbar()\n",
        "    tick_marks = np.arange(len(classes))\n",
        "    plt.xticks(tick_marks, classes, rotation=45)\n",
        "    plt.yticks(tick_marks, classes)\n",
        "\n",
        "    if normalize:\n",
        "        cm = cm.astype('float') / cm.sum(axis=1)[:, np.newaxis]\n",
        "\n",
        "    thresh = cm.max() / 2.\n",
        "    for i, j in itertools.product(range(cm.shape[0]), range(cm.shape[1])):\n",
        "        plt.text(j, i, cm[i, j],\n",
        "                 horizontalalignment=\"center\",\n",
        "                 color=\"white\" if cm[i, j] > thresh else \"black\")\n",
        "\n",
        "    plt.tight_layout()\n",
        "    plt.ylabel('True label')\n",
        "    plt.xlabel('Predicted label')\n",
        "\n",
        "# Look at confusion matrix \n",
        "plot_confusion_matrix(classes = range(10)) "
      ],
      "metadata": {
        "colab": {
          "base_uri": "https://localhost:8080/",
          "height": 311
        },
        "id": "KW6Y0qbGioqe",
        "outputId": "61dc16ea-3d54-4641-db6e-70145796b5cd"
      },
      "execution_count": 15,
      "outputs": [
        {
          "output_type": "display_data",
          "data": {
            "text/plain": [
              "<Figure size 432x288 with 2 Axes>"
            ],
            "image/png": "[encoded data removed]"
          },
          "metadata": {
            "needs_background": "light"
          }
        }
      ]
    }
  ]
}