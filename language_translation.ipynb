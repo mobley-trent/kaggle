{
  "nbformat": 4,
  "nbformat_minor": 0,
  "metadata": {
    "colab": {
      "provenance": [],
      "authorship_tag": "ABX9TyOM/lKSdZRWBIeWBUD5jG4l",
      "include_colab_link": true
    },
    "kernelspec": {
      "name": "python3",
      "display_name": "Python 3"
    },
    "language_info": {
      "name": "python"
    }
  },
  "cells": [
    {
      "cell_type": "markdown",
      "metadata": {
        "id": "view-in-github",
        "colab_type": "text"
      },
      "source": [
        "<a href=\"https://colab.research.google.com/github/mobley-trent/kaggle/blob/master/language_translation.ipynb\" target=\"_parent\"><img src=\"https://colab.research.google.com/assets/colab-badge.svg\" alt=\"Open In Colab\"/></a>"
      ]
    },
    {
      "cell_type": "markdown",
      "source": [
        "# LANGUAGE TRANSLATION WEB APP USING GRADIO AND TRANSFORMERS "
      ],
      "metadata": {
        "id": "gY-KFf91lOX7"
      }
    },
    {
      "cell_type": "markdown",
      "source": [
        " In this notebook, we showcase a language translation web app built using the Gradio user interface library and the pre-trained translation models from the Transformers library. The app allows users to input text to be translated, as well as choose the source and target languages using ISO 639-1 language codes.  This app is a simple example of how to use pre-trained language models to create useful and interactive tools for natural language processing."
      ],
      "metadata": {
        "id": "eiVcjJIQl9Do"
      }
    },
    {
      "cell_type": "markdown",
      "source": [
        "## DEPENDENCIES"
      ],
      "metadata": {
        "id": "TDLiNSBPtH9T"
      }
    },
    {
      "cell_type": "code",
      "source": [
        "import warnings\n",
        "warnings.simplefilter(\"ignore\")"
      ],
      "metadata": {
        "id": "krphHUq9vXEC"
      },
      "execution_count": 4,
      "outputs": []
    },
    {
      "cell_type": "code",
      "source": [
        "!pip install transformers ipywidgets gradio "
      ],
      "metadata": {
        "id": "gqEaLF4nvoWq"
      },
      "execution_count": null,
      "outputs": []
    },
    {
      "cell_type": "code",
      "source": [
        "import gradio as gr                     # UI\n",
        "from transformers import pipeline       # Transformers Pipeline"
      ],
      "metadata": {
        "id": "W6tyJEohuD2S"
      },
      "execution_count": 6,
      "outputs": []
    },
    {
      "cell_type": "markdown",
      "source": [
        "## LOAD UP PIPELINE"
      ],
      "metadata": {
        "id": "jfh0TI15tZ7B"
      }
    },
    {
      "cell_type": "code",
      "source": [
        "translation_pipeline = pipeline('translation_en_to_de')"
      ],
      "metadata": {
        "colab": {
          "base_uri": "https://localhost:8080/"
        },
        "id": "-kPgv12iw5GS",
        "outputId": "ed016297-cd08-4759-9edf-92424160196f"
      },
      "execution_count": 7,
      "outputs": [
        {
          "output_type": "stream",
          "name": "stderr",
          "text": [
            "No model was supplied, defaulted to t5-base and revision 686f1db (https://huggingface.co/t5-base).\n",
            "Using a pipeline without specifying a model name and revision in production is not recommended.\n"
          ]
        }
      ]
    },
    {
      "cell_type": "code",
      "source": [
        "txt = translation_pipeline('I love basketball')"
      ],
      "metadata": {
        "id": "8zu4EWVBxthx"
      },
      "execution_count": 8,
      "outputs": []
    },
    {
      "cell_type": "code",
      "source": [
        "print(txt[0]['translation_text'])"
      ],
      "metadata": {
        "colab": {
          "base_uri": "https://localhost:8080/"
        },
        "id": "HWixFFsyyElP",
        "outputId": "d746194e-b95a-42f7-d9c3-ad3e18f242a9"
      },
      "execution_count": 9,
      "outputs": [
        {
          "output_type": "stream",
          "name": "stdout",
          "text": [
            "Ich liebe Basketball\n"
          ]
        }
      ]
    },
    {
      "cell_type": "markdown",
      "source": [
        "## CREATE GRADIO FUNCTION AND INTERFACE"
      ],
      "metadata": {
        "id": "8n4ZNdZktdYA"
      }
    },
    {
      "cell_type": "code",
      "source": [
        "def new_pipeline(from_, to_):\n",
        "    new_pipe = pipeline(f'translation_{from_}_to_{to_}')\n",
        "    return new_pipe\n",
        "\n",
        "def translate(from_txt, from_lang='en', to_lang='de'):\n",
        "    global translation_pipeline\n",
        "    \n",
        "    # Check if a new pipeline is needed\n",
        "    if from_lang != 'en' or to_lang != 'de':\n",
        "        translation_pipeline = new_pipeline(from_lang, to_lang)\n",
        "\n",
        "    txt = translation_pipeline(from_txt)\n",
        "    return txt[0]['translation_text']"
      ],
      "metadata": {
        "id": "0BXbjyE2kpd1"
      },
      "execution_count": 10,
      "outputs": []
    },
    {
      "cell_type": "code",
      "source": [
        "translate('I love football')"
      ],
      "metadata": {
        "colab": {
          "base_uri": "https://localhost:8080/",
          "height": 38
        },
        "id": "LyFzgqLMyNpY",
        "outputId": "2a2ca0b0-1554-4f0b-cff6-fef77620ad7b"
      },
      "execution_count": 11,
      "outputs": [
        {
          "output_type": "execute_result",
          "data": {
            "text/plain": [
              "'Ich liebe Fußball'"
            ],
            "application/vnd.google.colaboratory.intrinsic+json": {
              "type": "string"
            }
          },
          "metadata": {},
          "execution_count": 11
        }
      ]
    },
    {
      "cell_type": "code",
      "source": [
        "interface = gr.Interface(fn=translate, \n",
        "                         inputs=[gr.inputs.Textbox(lines=2, label='Text to translate'),\n",
        "                                 gr.inputs.Textbox(label='From language (e.g. en)', default='en'),\n",
        "                                 gr.inputs.Textbox(label='To language (e.g. de)', default='de')],\n",
        "                        outputs='text',\n",
        "                        title='Translation Pipeline',\n",
        "                        description='Enter text to translate and the source/target languages')"
      ],
      "metadata": {
        "id": "UHphAwbByNcb"
      },
      "execution_count": 12,
      "outputs": []
    },
    {
      "cell_type": "code",
      "source": [
        "interface.launch()"
      ],
      "metadata": {
        "colab": {
          "base_uri": "https://localhost:8080/",
          "height": 619
        },
        "id": "nA-pno-jyMjp",
        "outputId": "bbc0d1c2-ae48-4d88-fc36-3ccbd98ff1f9"
      },
      "execution_count": 13,
      "outputs": [
        {
          "output_type": "stream",
          "name": "stdout",
          "text": [
            "Colab notebook detected. To show errors in colab notebook, set debug=True in launch()\n",
            "Note: opening Chrome Inspector may crash demo inside Colab notebooks.\n",
            "\n",
            "To create a public link, set `share=True` in `launch()`.\n"
          ]
        },
        {
          "output_type": "display_data",
          "data": {
            "text/plain": [
              "<IPython.core.display.Javascript object>"
            ],
            "application/javascript": [
              "(async (port, path, width, height, cache, element) => {\n",
              "                        if (!google.colab.kernel.accessAllowed && !cache) {\n",
              "                            return;\n",
              "                        }\n",
              "                        element.appendChild(document.createTextNode(''));\n",
              "                        const url = await google.colab.kernel.proxyPort(port, {cache});\n",
              "\n",
              "                        const external_link = document.createElement('div');\n",
              "                        external_link.innerHTML = `\n",
              "                            <div style=\"font-family: monospace; margin-bottom: 0.5rem\">\n",
              "                                Running on <a href=${new URL(path, url).toString()} target=\"_blank\">\n",
              "                                    https://localhost:${port}${path}\n",
              "                                </a>\n",
              "                            </div>\n",
              "                        `;\n",
              "                        element.appendChild(external_link);\n",
              "\n",
              "                        const iframe = document.createElement('iframe');\n",
              "                        iframe.src = new URL(path, url).toString();\n",
              "                        iframe.height = height;\n",
              "                        iframe.allow = \"autoplay; camera; microphone; clipboard-read; clipboard-write;\"\n",
              "                        iframe.width = width;\n",
              "                        iframe.style.border = 0;\n",
              "                        element.appendChild(iframe);\n",
              "                    })(7861, \"/\", \"100%\", 500, false, window.element)"
            ]
          },
          "metadata": {}
        },
        {
          "output_type": "execute_result",
          "data": {
            "text/plain": []
          },
          "metadata": {},
          "execution_count": 13
        }
      ]
    }
  ]
}